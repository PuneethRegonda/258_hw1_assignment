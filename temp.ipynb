{
 "cells": [
  {
   "cell_type": "code",
   "execution_count": 6,
   "id": "25d7192d-0f20-4350-8bdd-f9b70a366f67",
   "metadata": {},
   "outputs": [],
   "source": [
    "import os, time\n",
    "import torch\n",
    "import torch.nn as nn\n",
    "import torch.nn.functional as F\n",
    "from torchvision import transforms\n",
    "from torch.utils.data import Dataset, DataLoader\n",
    "from PIL import Image\n",
    "import matplotlib.pyplot as plt\n",
    "\n",
    "device = torch.device(\"mps\" if torch.backends.mps.is_available() else \"cpu\")\n"
   ]
  },
  {
   "cell_type": "code",
   "execution_count": 7,
   "id": "1a2d049a-7116-4355-a225-7596d6ed2a14",
   "metadata": {},
   "outputs": [],
   "source": [
    "class CustomCNN(nn.Module):\n",
    "    def __init__(self, num_classes=7):  # <- Use 7 if original training had 7\n",
    "        super(CustomCNN, self).__init__()\n",
    "        self.conv1 = nn.Conv2d(1, 16, 3, padding=1)\n",
    "        self.pool = nn.MaxPool2d(2)\n",
    "        self.conv2 = nn.Conv2d(16, 32, 3, padding=1)\n",
    "        self.fc1 = nn.Linear(32 * 16 * 16, 64)  # <- Match this\n",
    "        self.fc2 = nn.Linear(64, num_classes)  # <- Match this too\n",
    "\n",
    "    def forward(self, x):\n",
    "        x = self.pool(F.relu(self.conv1(x)))\n",
    "        x = self.pool(F.relu(self.conv2(x)))\n",
    "        x = x.view(x.size(0), -1)\n",
    "        x = F.relu(self.fc1(x))\n",
    "        return self.fc2(x)\n"
   ]
  },
  {
   "cell_type": "code",
   "execution_count": 8,
   "id": "e88f5fce-9fa3-4702-bdef-b1b16d60f01f",
   "metadata": {},
   "outputs": [],
   "source": [
    "class MedNISTDataset(Dataset):\n",
    "    def __init__(self, image_paths, labels, transform=None):\n",
    "        self.image_paths = image_paths\n",
    "        self.labels = labels\n",
    "        self.transform = transform\n",
    "\n",
    "    def __len__(self):\n",
    "        return len(self.image_paths)\n",
    "\n",
    "    def __getitem__(self, idx):\n",
    "        img = Image.open(self.image_paths[idx]).convert(\"L\")  # grayscale\n",
    "        if self.transform:\n",
    "            img = self.transform(img)\n",
    "        return img, self.labels[idx]\n"
   ]
  },
  {
   "cell_type": "code",
   "execution_count": 9,
   "id": "301630e8-5e09-45d3-aa7a-3ef0fcce7992",
   "metadata": {},
   "outputs": [],
   "source": [
    "from sklearn.model_selection import train_test_split\n",
    "\n",
    "root_dir = \"./data/MedNIST\"\n",
    "classes = sorted([d for d in os.listdir(root_dir) if os.path.isdir(os.path.join(root_dir, d))])\n",
    "\n",
    "image_paths, labels = [], []\n",
    "for label, class_name in enumerate(classes):\n",
    "    class_path = os.path.join(root_dir, class_name)\n",
    "    for img_file in os.listdir(class_path):\n",
    "        if img_file.lower().endswith((\".png\", \".jpeg\", \".jpg\")):\n",
    "            image_paths.append(os.path.join(class_path, img_file))\n",
    "            labels.append(label)\n",
    "\n",
    "_, test_x, _, test_y = train_test_split(image_paths, labels, test_size=0.2, stratify=labels, random_state=42)\n",
    "\n",
    "transform = transforms.Compose([\n",
    "    transforms.Resize((64, 64)),\n",
    "    transforms.ToTensor(),\n",
    "])\n",
    "\n",
    "test_ds = MedNISTDataset(test_x, test_y, transform)\n",
    "test_loader = DataLoader(test_ds, batch_size=32, shuffle=False)\n"
   ]
  },
  {
   "cell_type": "code",
   "execution_count": 11,
   "id": "60e8971f-4484-44aa-97df-8bf2b1cac98a",
   "metadata": {},
   "outputs": [
    {
     "name": "stdout",
     "output_type": "stream",
     "text": [
      "📊 Accuracy: 17.10%\n",
      "⏱️ Inference Time: 21.31 seconds\n"
     ]
    }
   ],
   "source": [
    "model = CustomCNN(num_classes=7)\n",
    "model.load_state_dict(torch.load(\"custom_cnn.pth\", map_location=device))\n",
    "model.to(device)\n",
    "model.eval()\n",
    "\n",
    "def evaluate(model, loader):\n",
    "    correct = total = 0\n",
    "    with torch.no_grad():\n",
    "        for data, target in loader:\n",
    "            data, target = data.to(device), target.to(device)\n",
    "            preds = model(data).argmax(dim=1)\n",
    "            correct += (preds == target).sum().item()\n",
    "            total += target.size(0)\n",
    "    return 100 * correct / total\n",
    "\n",
    "def measure_inference(model, loader):\n",
    "    model.eval()\n",
    "    start = time.time()\n",
    "    with torch.no_grad():\n",
    "        for data, _ in loader:\n",
    "            data = data.to(device)\n",
    "            _ = model(data)\n",
    "    return time.time() - start\n",
    "\n",
    "acc = evaluate(model, test_loader)\n",
    "inf_time = measure_inference(model, test_loader)\n",
    "\n",
    "print(f\"📊 Accuracy: {acc:.2f}%\")\n",
    "print(f\"⏱️ Inference Time: {inf_time:.2f} seconds\")\n"
   ]
  },
  {
   "cell_type": "code",
   "execution_count": 12,
   "id": "887fc37f-c826-467f-8b0f-cd69ef659a07",
   "metadata": {},
   "outputs": [
    {
     "data": {
      "image/png": "[encoded data removed]",
      "text/plain": [
       "<Figure size 1000x400 with 2 Axes>"
      ]
     },
     "metadata": {},
     "output_type": "display_data"
    }
   ],
   "source": [
    "plt.figure(figsize=(10, 4))\n",
    "\n",
    "# Accuracy\n",
    "plt.subplot(1, 2, 1)\n",
    "plt.bar([\"Custom CNN\"], [acc])\n",
    "plt.ylabel(\"Accuracy (%)\")\n",
    "plt.title(\"Model Accuracy\")\n",
    "\n",
    "# Inference Time\n",
    "plt.subplot(1, 2, 2)\n",
    "plt.bar([\"Custom CNN\"], [inf_time])\n",
    "plt.ylabel(\"Inference Time (s)\")\n",
    "plt.title(\"Model Inference Time\")\n",
    "\n",
    "plt.tight_layout()\n",
    "plt.show()\n"
   ]
  },
  {
   "cell_type": "code",
   "execution_count": null,
   "id": "cf2e801f-62b0-4c57-8d3a-4226018e074a",
   "metadata": {},
   "outputs": [],
   "source": []
  }
 ],
 "metadata": {
  "kernelspec": {
   "display_name": "Python 3 (ipykernel)",
   "language": "python",
   "name": "python3"
  },
  "language_info": {
   "codemirror_mode": {
    "name": "ipython",
    "version": 3
   },
   "file_extension": ".py",
   "mimetype": "text/x-python",
   "name": "python",
   "nbconvert_exporter": "python",
   "pygments_lexer": "ipython3",
   "version": "3.12.4"
  }
 },
 "nbformat": 4,
 "nbformat_minor": 5
}
